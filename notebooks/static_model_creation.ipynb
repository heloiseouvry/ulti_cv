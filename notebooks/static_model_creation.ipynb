{
 "cells": [
  {
   "cell_type": "code",
   "execution_count": 1,
   "id": "biological-antibody",
   "metadata": {},
   "outputs": [],
   "source": [
    "import cv2\n",
    "import numpy as np\n",
    "import matplotlib.pyplot as plt"
   ]
  },
  {
   "cell_type": "code",
   "execution_count": 8,
   "id": "juvenile-things",
   "metadata": {},
   "outputs": [],
   "source": [
    "RESULTS_SAVING = True"
   ]
  },
  {
   "cell_type": "code",
   "execution_count": 12,
   "id": "divine-session",
   "metadata": {},
   "outputs": [
    {
     "data": {
      "image/png": "[encoded data removed]",
      "text/plain": [
       "<Figure size 432x288 with 1 Axes>"
      ]
     },
     "metadata": {
      "needs_background": "light"
     },
     "output_type": "display_data"
    }
   ],
   "source": [
    "FOOTFIELD_COLOR = (255,0,0)\n",
    "FOOTFIELD_THICKNESS = 3\n",
    "FOOTFIELD_HEIGHT = 600\n",
    "FOOTFIELD_WIDTH = 1200\n",
    "FOOTFIELD_MID_HEIGHT = np.ceil((FOOTFIELD_HEIGHT)/2).astype(int)\n",
    "FOOTFIELD_MID_WIDTH = np.ceil((FOOTFIELD_WIDTH)/2).astype(int)\n",
    "\n",
    "footfield = np.zeros((FOOTFIELD_HEIGHT,FOOTFIELD_WIDTH,3), np.uint8)\n",
    "\n",
    "foot_ptA = (0,0)\n",
    "foot_ptB = (FOOTFIELD_WIDTH, 0)\n",
    "foot_ptC = (FOOTFIELD_WIDTH, FOOTFIELD_HEIGHT)\n",
    "foot_ptD = (0, FOOTFIELD_HEIGHT)\n",
    "foot_ptE = (FOOTFIELD_MID_WIDTH, 0)\n",
    "foot_ptF = (FOOTFIELD_MID_WIDTH, FOOTFIELD_HEIGHT)\n",
    "foot_ptG = (0,100)\n",
    "foot_ptH = (165,100)\n",
    "foot_ptI = (165,500)\n",
    "foot_ptJ = (0,500)\n",
    "foot_ptK = (FOOTFIELD_WIDTH-165,100)\n",
    "foot_ptL = (FOOTFIELD_WIDTH,100)\n",
    "foot_ptM = (FOOTFIELD_WIDTH,500)\n",
    "foot_ptN = (FOOTFIELD_WIDTH-165,500)\n",
    "foot_ptO = (0,210)\n",
    "foot_ptP = (55,210)\n",
    "foot_ptQ = (55,390)\n",
    "foot_ptR = (0,390)\n",
    "foot_ptS = (FOOTFIELD_WIDTH-55,210)\n",
    "foot_ptT = (FOOTFIELD_WIDTH,210)\n",
    "foot_ptU = (FOOTFIELD_WIDTH,390)\n",
    "foot_ptV = (FOOTFIELD_WIDTH-55,390)\n",
    "foot_ptW = (0,265)\n",
    "foot_ptX = (0,335)\n",
    "foot_ptY = (FOOTFIELD_WIDTH,265)\n",
    "foot_ptZ = (FOOTFIELD_WIDTH,335)\n",
    "foot_ptCA = (0,FOOTFIELD_MID_HEIGHT)\n",
    "foot_ptCB = (FOOTFIELD_WIDTH,FOOTFIELD_MID_HEIGHT)\n",
    "foot_ptCC = (FOOTFIELD_MID_WIDTH,FOOTFIELD_MID_HEIGHT)\n",
    "\n",
    "cv2.rectangle(footfield, foot_ptA, foot_ptC, FOOTFIELD_COLOR, FOOTFIELD_THICKNESS) # ABCD\n",
    "cv2.line(footfield, foot_ptE, foot_ptF, FOOTFIELD_COLOR, FOOTFIELD_THICKNESS) # EF\n",
    "cv2.line(footfield, foot_ptG, foot_ptH, FOOTFIELD_COLOR, FOOTFIELD_THICKNESS) # GH\n",
    "cv2.line(footfield, foot_ptI, foot_ptJ, FOOTFIELD_COLOR, FOOTFIELD_THICKNESS) # IJ\n",
    "cv2.line(footfield, foot_ptH, foot_ptI, FOOTFIELD_COLOR, FOOTFIELD_THICKNESS) # HI\n",
    "cv2.line(footfield, foot_ptK, foot_ptL, FOOTFIELD_COLOR, FOOTFIELD_THICKNESS) # KL\n",
    "cv2.line(footfield, foot_ptM, foot_ptN, FOOTFIELD_COLOR, FOOTFIELD_THICKNESS) # MN\n",
    "cv2.line(footfield, foot_ptK, foot_ptN, FOOTFIELD_COLOR, FOOTFIELD_THICKNESS) # KN\n",
    "cv2.line(footfield, foot_ptO, foot_ptP, FOOTFIELD_COLOR, FOOTFIELD_THICKNESS) # OP\n",
    "cv2.line(footfield, foot_ptQ, foot_ptR, FOOTFIELD_COLOR, FOOTFIELD_THICKNESS) # QR\n",
    "cv2.line(footfield, foot_ptP, foot_ptQ, FOOTFIELD_COLOR, FOOTFIELD_THICKNESS) # PQ\n",
    "cv2.line(footfield, foot_ptS, foot_ptT, FOOTFIELD_COLOR, FOOTFIELD_THICKNESS) # ST\n",
    "cv2.line(footfield, foot_ptU, foot_ptV, FOOTFIELD_COLOR, FOOTFIELD_THICKNESS) # UV\n",
    "cv2.line(footfield, foot_ptS, foot_ptV, FOOTFIELD_COLOR, FOOTFIELD_THICKNESS) # SV\n",
    "cv2.line(footfield, foot_ptW, foot_ptX, FOOTFIELD_COLOR, 10) # WX\n",
    "cv2.line(footfield, foot_ptY, foot_ptZ, FOOTFIELD_COLOR, 10) # YZ\n",
    "cv2.ellipse(footfield, foot_ptCA, (10,10), 0, 0, 360, FOOTFIELD_COLOR, FOOTFIELD_THICKNESS) # CA\n",
    "cv2.ellipse(footfield, foot_ptCB, (10,10), 0, 0, 360, FOOTFIELD_COLOR, FOOTFIELD_THICKNESS) # CB\n",
    "cv2.ellipse(footfield, foot_ptCC, (95,95), 0, 0, 360, FOOTFIELD_COLOR, FOOTFIELD_THICKNESS) # CC\n",
    "\n",
    "plt.figure()\n",
    "plt.imshow(footfield)\n",
    "plt.show()\n",
    "\n",
    "if RESULTS_SAVING:\n",
    "    cv2.imwrite('../data/footfield.jpg',footfield)"
   ]
  },
  {
   "cell_type": "code",
   "execution_count": 13,
   "id": "requested-timing",
   "metadata": {
    "scrolled": true
   },
   "outputs": [
    {
     "data": {
      "image/png": "[encoded data removed]",
      "text/plain": [
       "<Figure size 432x288 with 1 Axes>"
      ]
     },
     "metadata": {
      "needs_background": "light"
     },
     "output_type": "display_data"
    }
   ],
   "source": [
    "ULTIFIELD_COLOR = (0,255,0)\n",
    "ULTIFIELD_THICKNESS = 3\n",
    "ULTIFIELD_HEIGHT = 370\n",
    "ULTIFIELD_WIDTH = 1000\n",
    "ULTIFIELD_MID_HEIGHT = np.ceil((ULTIFIELD_HEIGHT)/2).astype(int)\n",
    "ULTIFIELD_MID_WIDTH = np.ceil((ULTIFIELD_WIDTH)/2).astype(int)\n",
    "\n",
    "ultifield = np.zeros((ULTIFIELD_HEIGHT,ULTIFIELD_WIDTH,3), np.uint8)\n",
    "\n",
    "ulti_ptA = (0,0)\n",
    "ulti_ptB = (ULTIFIELD_WIDTH, 0)\n",
    "ulti_ptC = (ULTIFIELD_WIDTH, ULTIFIELD_HEIGHT)\n",
    "ulti_ptD = (0, ULTIFIELD_HEIGHT)\n",
    "ulti_ptE = (ULTIFIELD_MID_WIDTH, 0)\n",
    "ulti_ptF = (ULTIFIELD_MID_WIDTH, ULTIFIELD_HEIGHT)\n",
    "ulti_ptG = (180,0)\n",
    "ulti_ptH = (180,ULTIFIELD_HEIGHT)\n",
    "ulti_ptI = (ULTIFIELD_WIDTH-180,0)\n",
    "ulti_ptJ = (ULTIFIELD_WIDTH-180,ULTIFIELD_HEIGHT)\n",
    "\n",
    "cv2.rectangle(ultifield, ulti_ptA, ulti_ptC, ULTIFIELD_COLOR, ULTIFIELD_THICKNESS) # ABCD\n",
    "cv2.line(ultifield, ulti_ptE, ulti_ptF, ULTIFIELD_COLOR, ULTIFIELD_THICKNESS) # EF\n",
    "cv2.line(ultifield, ulti_ptG, ulti_ptH, ULTIFIELD_COLOR, ULTIFIELD_THICKNESS) # GH\n",
    "cv2.line(ultifield, ulti_ptI, ulti_ptJ, ULTIFIELD_COLOR, ULTIFIELD_THICKNESS) # IJ\n",
    "\n",
    "plt.figure()\n",
    "plt.imshow(ultifield)\n",
    "plt.show()\n",
    "\n",
    "if RESULTS_SAVING:\n",
    "    cv2.imwrite('../data/ultifield.jpg',ultifield)"
   ]
  },
  {
   "cell_type": "code",
   "execution_count": 15,
   "id": "assigned-translation",
   "metadata": {},
   "outputs": [
    {
     "data": {
      "image/png": "[encoded data removed]",
      "text/plain": [
       "<Figure size 432x288 with 1 Axes>"
      ]
     },
     "metadata": {
      "needs_background": "light"
     },
     "output_type": "display_data"
    }
   ],
   "source": [
    "template = np.zeros((FOOTFIELD_HEIGHT,FOOTFIELD_WIDTH,3), np.uint8)\n",
    "\n",
    "OFFSET_FOOT2ULTI = (100,115);\n",
    "\n",
    "# Drawing the football field\n",
    "cv2.rectangle(template, foot_ptA, foot_ptC, FOOTFIELD_COLOR, FOOTFIELD_THICKNESS) # ABCD\n",
    "cv2.line(template, foot_ptE, foot_ptF, FOOTFIELD_COLOR, FOOTFIELD_THICKNESS) # EF\n",
    "cv2.line(template, foot_ptG, foot_ptH, FOOTFIELD_COLOR, FOOTFIELD_THICKNESS) # GH\n",
    "cv2.line(template, foot_ptI, foot_ptJ, FOOTFIELD_COLOR, FOOTFIELD_THICKNESS) # IJ\n",
    "cv2.line(template, foot_ptH, foot_ptI, FOOTFIELD_COLOR, FOOTFIELD_THICKNESS) # HI\n",
    "cv2.line(template, foot_ptK, foot_ptL, FOOTFIELD_COLOR, FOOTFIELD_THICKNESS) # KL\n",
    "cv2.line(template, foot_ptM, foot_ptN, FOOTFIELD_COLOR, FOOTFIELD_THICKNESS) # MN\n",
    "cv2.line(template, foot_ptK, foot_ptN, FOOTFIELD_COLOR, FOOTFIELD_THICKNESS) # KN\n",
    "cv2.line(template, foot_ptO, foot_ptP, FOOTFIELD_COLOR, FOOTFIELD_THICKNESS) # OP\n",
    "cv2.line(template, foot_ptQ, foot_ptR, FOOTFIELD_COLOR, FOOTFIELD_THICKNESS) # QR\n",
    "cv2.line(template, foot_ptP, foot_ptQ, FOOTFIELD_COLOR, FOOTFIELD_THICKNESS) # PQ\n",
    "cv2.line(template, foot_ptS, foot_ptT, FOOTFIELD_COLOR, FOOTFIELD_THICKNESS) # ST\n",
    "cv2.line(template, foot_ptU, foot_ptV, FOOTFIELD_COLOR, FOOTFIELD_THICKNESS) # UV\n",
    "cv2.line(template, foot_ptS, foot_ptV, FOOTFIELD_COLOR, FOOTFIELD_THICKNESS) # SV\n",
    "cv2.line(template, foot_ptW, foot_ptX, FOOTFIELD_COLOR, 10) # WX\n",
    "cv2.line(template, foot_ptY, foot_ptZ, FOOTFIELD_COLOR, 10) # YZ\n",
    "cv2.ellipse(template, foot_ptCA, (10,10), 0, 0, 360, FOOTFIELD_COLOR, FOOTFIELD_THICKNESS) # CA\n",
    "cv2.ellipse(template, foot_ptCB, (10,10), 0, 0, 360, FOOTFIELD_COLOR, FOOTFIELD_THICKNESS) # CB\n",
    "cv2.ellipse(template, foot_ptCC, (95,95), 0, 0, 360, FOOTFIELD_COLOR, FOOTFIELD_THICKNESS) # CC\n",
    "\n",
    "# Drawing the ultimate field\n",
    "cv2.rectangle(template, np.add(ulti_ptA,OFFSET_FOOT2ULTI), np.add(ulti_ptC,OFFSET_FOOT2ULTI), ULTIFIELD_COLOR, ULTIFIELD_THICKNESS) # ABCD\n",
    "cv2.line(template, np.add(ulti_ptE,OFFSET_FOOT2ULTI), np.add(ulti_ptF,OFFSET_FOOT2ULTI), ULTIFIELD_COLOR, ULTIFIELD_THICKNESS) # EF\n",
    "cv2.line(template, np.add(ulti_ptG,OFFSET_FOOT2ULTI), np.add(ulti_ptH,OFFSET_FOOT2ULTI), ULTIFIELD_COLOR, ULTIFIELD_THICKNESS) # GH\n",
    "cv2.line(template, np.add(ulti_ptI,OFFSET_FOOT2ULTI), np.add(ulti_ptJ,OFFSET_FOOT2ULTI), ULTIFIELD_COLOR, ULTIFIELD_THICKNESS) # IJ\n",
    "\n",
    "plt.figure()\n",
    "plt.imshow(template)\n",
    "plt.show()\n",
    "\n",
    "if RESULTS_SAVING:\n",
    "    cv2.imwrite('../data/template.jpg',template)"
   ]
  },
  {
   "cell_type": "code",
   "execution_count": null,
   "id": "reverse-knowing",
   "metadata": {},
   "outputs": [],
   "source": []
  }
 ],
 "metadata": {
  "kernelspec": {
   "display_name": "Python 3",
   "language": "python",
   "name": "python3"
  },
  "language_info": {
   "codemirror_mode": {
    "name": "ipython",
    "version": 3
   },
   "file_extension": ".py",
   "mimetype": "text/x-python",
   "name": "python",
   "nbconvert_exporter": "python",
   "pygments_lexer": "ipython3",
   "version": "3.8.5"
  }
 },
 "nbformat": 4,
 "nbformat_minor": 5
}
